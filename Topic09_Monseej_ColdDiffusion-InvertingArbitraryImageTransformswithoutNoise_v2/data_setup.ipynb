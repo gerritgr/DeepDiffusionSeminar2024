{
 "cells": [
  {
   "cell_type": "markdown",
   "metadata": {},
   "source": [
    "This notebok is simply a tutorial on how to setup the data environment so that experiments related to [Cold Diffusion](https://openreview.net/pdf?id=XH3ArccntI) can be run. This is notebook of the `create_data.py` file from the official [Github implementation](https://github.com/arpitbansal297/Cold-Diffusion-Models/tree/main) of the same paper.\n",
    "\n",
    "First, as usual, we import the necessary libraries"
   ]
  },
  {
   "cell_type": "code",
   "execution_count": null,
   "metadata": {},
   "outputs": [],
   "source": [
    "# Import necessary libraries\n",
    "import torchvision\n",
    "import os\n",
    "import errno\n",
    "import shutil\n",
    "from pathlib import Path\n",
    "from PIL import Image\n",
    "from tqdm import tqdm\n",
    "\n",
    "# Function to create a new folder\n",
    "def create_folder(path):\n",
    "    try:\n",
    "        # Try to create a new directory\n",
    "        os.mkdir(path)\n",
    "    except OSError as exc:\n",
    "        # If the directory already exists, pass\n",
    "        if exc.errno != errno.EEXIST:\n",
    "            # If the error is something else, raise it\n",
    "            raise\n",
    "        pass\n",
    "\n",
    "# Function to delete a folder\n",
    "def del_folder(path):\n",
    "    try:\n",
    "        # Try to remove the directory and all its contents\n",
    "        shutil.rmtree(path)\n",
    "    except OSError as exc:\n",
    "        # If the directory does not exist or cannot be removed, pass\n",
    "        pass\n"
   ]
  },
  {
   "cell_type": "markdown",
   "metadata": {},
   "source": [
    "Run the code block twice to set up ypur data optimally"
   ]
  },
  {
   "cell_type": "code",
   "execution_count": null,
   "metadata": {},
   "outputs": [],
   "source": [
    "# Function to create a new folder\n",
    "def create_folder(path):\n",
    "    try:\n",
    "        # Try to create a new directory\n",
    "        os.mkdir(path)\n",
    "    except OSError as exc:\n",
    "        # If the directory already exists, pass\n",
    "        if exc.errno != errno.EEXIST:\n",
    "            # If the error is something else, raise it\n",
    "            raise\n",
    "        pass\n",
    "\n",
    "# Function to delete a folder\n",
    "def del_folder(path):\n",
    "    try:\n",
    "        # Try to remove the directory and all its contents\n",
    "        shutil.rmtree(path)\n",
    "    except OSError as exc:\n",
    "        # If the directory does not exist or cannot be removed, pass\n",
    "        pass\n",
    "\n",
    "# Load the MNIST dataset\n",
    "trainset = torchvision.datasets.MNIST(\n",
    "            root='./data', train=True, download=True)\n",
    "\n",
    "# Define the root directory for the images\n",
    "root = './root_mnist/'\n",
    "\n",
    "# Delete and create the root directory\n",
    "del_folder(root)\n",
    "create_folder(root)\n",
    "\n",
    "# Update the root directory\n",
    "root = 'data/root_mnist/'\n",
    "\n",
    "# Delete and create the updated root directory\n",
    "del_folder(root)\n",
    "create_folder(root)\n",
    "\n",
    "# Create directories for each label\n",
    "for i in range(10):\n",
    "    lable_root = root + str(i) + '/'\n",
    "    create_folder(lable_root)\n",
    "\n",
    "# Save each image in the trainset to its corresponding label directory\n",
    "# Use tqdm to display a loading bar with ETA\n",
    "for idx in tqdm(range(len(trainset)), desc=\"Saving images\", unit=\"image\"):\n",
    "    img, label = trainset[idx]\n",
    "    img.save(root + str(label) + '/' + str(idx) + '.png')"
   ]
  },
  {
   "cell_type": "markdown",
   "metadata": {},
   "source": [
    "We plan to update thos notebook with other dataset laoding instructions once we start working on them as well."
   ]
  },
  {
   "cell_type": "code",
   "execution_count": null,
   "metadata": {},
   "outputs": [],
   "source": []
  }
 ],
 "metadata": {
  "kernelspec": {
   "display_name": "workbase",
   "language": "python",
   "name": "python3"
  },
  "language_info": {
   "codemirror_mode": {
    "name": "ipython",
    "version": 3
   },
   "file_extension": ".py",
   "mimetype": "text/x-python",
   "name": "python",
   "nbconvert_exporter": "python",
   "pygments_lexer": "ipython3",
   "version": "3.11.5"
  }
 },
 "nbformat": 4,
 "nbformat_minor": 2
}
