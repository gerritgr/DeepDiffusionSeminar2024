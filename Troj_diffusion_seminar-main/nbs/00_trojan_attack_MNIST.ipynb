{
  "cells": [
    {
      "cell_type": "code",
      "execution_count": 1,
      "metadata": {
        "id": "_7zBExfGW0BX"
      },
      "outputs": [],
      "source": [
        "#| default_exp trojan_attack_MNIST"
      ]
    },
    {
      "cell_type": "markdown",
      "metadata": {
        "id": "Uyp1cH6lW0BZ"
      },
      "source": [
        "# Trojan Attack on MNIST\n",
        "\n",
        "> In this notebook, I will demonstrate how to perform a simple Trojan attack on the MNIST dataset using a patch-based trigger."
      ]
    },
    {
      "cell_type": "markdown",
      "metadata": {
        "id": "V_FEzdFmW0Bb"
      },
      "source": [
        "## What are Trojan Attacks?\n",
        "- Trojan attacks, also known as Trojan horse attacks or backdoor attacks, are a form of adversarial attack on machine learning models.\n",
        "- During training, the attacker injects a trojan trigger into the training data, causing the model to learn an undesirable correlation between the trigger and the target class.\n",
        "- Inference with a trojaned model results in it always predicting the adversarial target class when the trojan trigger is present in the input.\n",
        "- Detecting trojan attacks can be challenging.\n",
        "- They pose significant security risks in critical applications."
      ]
    },
    {
      "cell_type": "markdown",
      "metadata": {
        "id": "7PLnQtjMW0Bc"
      },
      "source": [
        "![Trojan-Attack-inference](https://github.com/akansh12/Troj_diffusion_seminar/blob/main/nbs/images/trojan_attack_inference.jpg?raw=1){fig-align=\\\"center\\\"}"
      ]
    },
    {
      "cell_type": "markdown",
      "metadata": {
        "id": "nf6J36H8W0Be"
      },
      "source": [
        "[![Open In Colab](https://colab.research.google.com/assets/colab-badge.svg)](https://colab.research.google.com/github/akansh12/Troj_diffusion_seminar/blob/main/nbs/00_trojan_attack_MNIST.ipynb)\n"
      ]
    },
    {
      "cell_type": "markdown",
      "metadata": {
        "id": "KymSsXObW0Bf"
      },
      "source": [
        "We will begin by importing essential Python libraries."
      ]
    },
    {
      "cell_type": "code",
      "source": [
        "#| notest\n",
        "#| hide\n",
        "!git clone https://github.com/akansh12/Troj_diffusion_seminar.git\n",
        "%cd /content/Troj_diffusion_seminar/nbs/"
      ],
      "metadata": {
        "id": "Vs7gNFpyXMye",
        "outputId": "d908f887-d376-43d9-9bb8-d0157722deb2",
        "colab": {
          "base_uri": "https://localhost:8080/"
        }
      },
      "execution_count": 3,
      "outputs": [
        {
          "output_type": "stream",
          "name": "stdout",
          "text": [
            "Cloning into 'Troj_diffusion_seminar'...\n",
            "remote: Enumerating objects: 141, done.\u001b[K\n",
            "remote: Counting objects: 100% (34/34), done.\u001b[K\n",
            "remote: Compressing objects: 100% (27/27), done.\u001b[K\n",
            "remote: Total 141 (delta 9), reused 28 (delta 6), pack-reused 107\u001b[K\n",
            "Receiving objects: 100% (141/141), 17.66 MiB | 27.24 MiB/s, done.\n",
            "Resolving deltas: 100% (31/31), done.\n",
            "/content/Troj_diffusion_seminar/nbs\n"
          ]
        }
      ]
    },
    {
      "cell_type": "code",
      "execution_count": 17,
      "metadata": {
        "id": "QpDP2NZMW0Bg"
      },
      "outputs": [],
      "source": [
        "#| notest\n",
        "import torch\n",
        "import torch.nn as nn\n",
        "import torch.optim as optim\n",
        "import torchvision\n",
        "import torchvision.transforms as transforms\n",
        "import matplotlib.pyplot as plt\n",
        "import numpy as np\n",
        "import sys\n",
        "import os\n",
        "sys.path.append('../')"
      ]
    },
    {
      "cell_type": "code",
      "source": [
        "#| notest\n",
        "#| hide\n",
        "#for deterministic output\n",
        "def set_random_seeds(seed_value):\n",
        "    import random\n",
        "    random.seed(seed_value)\n",
        "\n",
        "    np.random.seed(seed_value)\n",
        "\n",
        "    torch.manual_seed(seed_value)\n",
        "    torch.cuda.manual_seed_all(seed_value)\n",
        "    torch.backends.cudnn.deterministic = True\n",
        "    torch.backends.cudnn.benchmark = False\n",
        "# Set the random seed\n",
        "seed = 42\n",
        "set_random_seeds(seed)"
      ],
      "metadata": {
        "id": "ebB894pQXbEf"
      },
      "execution_count": 5,
      "outputs": []
    },
    {
      "cell_type": "markdown",
      "metadata": {
        "id": "utyLd9tvW0Bh"
      },
      "source": [
        "Helper functions"
      ]
    },
    {
      "cell_type": "code",
      "execution_count": 6,
      "metadata": {
        "id": "dq_6BRV_W0Bi"
      },
      "outputs": [],
      "source": [
        "def plot_images(images, labels, num_rows=4, num_cols=8, title='Images from Train Dataset', infer=False):\n",
        "    \"\"\"\n",
        "    Plots a grid of images with their corresponding labels.\n",
        "\n",
        "    Args:\n",
        "    - images (list): List of images to be plotted.\n",
        "    - labels (list): List of labels corresponding to the images.\n",
        "    - num_rows (int): Number of rows in the grid layout (default is 4).\n",
        "    - num_cols (int): Number of columns in the grid layout (default is 8).\n",
        "    - title (str): Title of the plot (default is 'Images from Train Dataset').\n",
        "    - infer (bool): Whether the labels are predicted labels or actual labels (default is False).\n",
        "\n",
        "    Returns:\n",
        "    - None\n",
        "\n",
        "    \"\"\"\n",
        "    fig, axes = plt.subplots(num_rows, num_cols, figsize=(12, 8))\n",
        "    fig.suptitle(title, fontsize=16)\n",
        "\n",
        "    for i in range(num_rows):\n",
        "        for j in range(num_cols):\n",
        "            index = i * num_cols + j\n",
        "            ax = axes[i, j]\n",
        "            ax.imshow(np.squeeze(images[index]), cmap='gray')\n",
        "            if infer:\n",
        "                ax.set_title(f'Predicted: {labels[index]}')\n",
        "            else:\n",
        "                ax.set_title(f'Label: {labels[index].item()}')\n",
        "            ax.axis('off')\n",
        "\n",
        "    plt.show()\n",
        "\n",
        "def infer(model, image, transform):\n",
        "    \"\"\"\n",
        "    Infers the label of an image using a given model.\n",
        "\n",
        "    Args:\n",
        "    - model: Trained model used for inference.\n",
        "    - image: Input image to be inferred.\n",
        "    - transform: Preprocessing transformation to be applied to the input image.\n",
        "\n",
        "    Returns:\n",
        "    - predicted (int): Predicted label for the input image.\n",
        "\n",
        "    \"\"\"\n",
        "    model.eval()\n",
        "    if transform is not None:\n",
        "        image = transform(image)\n",
        "    image = image.unsqueeze(0)\n",
        "    output = model(image)\n",
        "    _, predicted = torch.max(output, 1)\n",
        "    return predicted.item()\n"
      ]
    },
    {
      "cell_type": "markdown",
      "metadata": {
        "id": "7W3dnd_0W0Bj"
      },
      "source": [
        "Dataset and DataLoader\n"
      ]
    },
    {
      "cell_type": "markdown",
      "metadata": {
        "id": "xtzlmzqZW0Bj"
      },
      "source": [
        "- For this notebook, we'll utilize the MNIST Dataset from PyTorch.\n",
        "- During dataset loading, we'll apply normalization as specified in the code"
      ]
    },
    {
      "cell_type": "code",
      "execution_count": null,
      "metadata": {
        "id": "Kbi6lkT4W0Bj"
      },
      "outputs": [],
      "source": [
        "#| notest\n",
        "transform = transforms.Compose([transforms.ToTensor(), transforms.Normalize((0.5,), (0.5,))])\n",
        "train_dataset = torchvision.datasets.MNIST(root='../data', train=True, transform=transform, download=True)\n",
        "test_dataset = torchvision.datasets.MNIST(root='../data', train=False, transform=transform, download=True)\n",
        "train_loader = torch.utils.data.DataLoader(train_dataset, batch_size=512, shuffle=True)\n",
        "test_loader = torch.utils.data.DataLoader(test_dataset, batch_size=512, shuffle=False)\n",
        "\n",
        "sample_loader = iter(train_loader)\n",
        "sample_images, sample_labels = next(sample_loader)"
      ]
    },
    {
      "cell_type": "code",
      "execution_count": 8,
      "metadata": {
        "id": "C3krp8zyW0Bk",
        "outputId": "e2b4c912-a118-42d6-a3d1-badb8109a4d2",
        "colab": {
          "base_uri": "https://localhost:8080/",
          "height": 715
        }
      },
      "outputs": [
        {
          "output_type": "display_data",
          "data": {
            "text/plain": [
              "<Figure size 1200x800 with 32 Axes>"
            ],
            "image/png": "[encoded data removed]"
          },
          "metadata": {}
        }
      ],
      "source": [
        "#| notest\n",
        "plot_images(sample_images, sample_labels)"
      ]
    },
    {
      "cell_type": "markdown",
      "metadata": {
        "id": "nyDdOW_2W0Bl"
      },
      "source": [
        "Model"
      ]
    },
    {
      "cell_type": "markdown",
      "metadata": {
        "id": "4ACLuQr1W0Bl"
      },
      "source": [
        "We will be adopting LeNet-5 architecture for our model. The architecture is as follows:"
      ]
    },
    {
      "cell_type": "markdown",
      "metadata": {
        "id": "2cveNqn6W0Bl"
      },
      "source": [
        "- **Classic Architecture:** LeNet-5 is a classic convolutional neural network designed for handwritten digit recognition, comprising convolutional and fully connected layers.\n",
        "- **Layer Composition:** It consists of two sets of convolutional layers followed by max-pooling layers, and three fully connected layers, each followed by ReLU activation functions.\n",
        "- **Architecture Details:** The network starts with Conv1, a convolutional layer with 6 filters of size 5x5, followed by ReLU activation, and subsequent max-pooling. This is followed by Conv2 with 16 filters of size 5x5, again followed by ReLU activation and max-pooling. The output is then flattened and passed through fully connected layers (FC1, FC2, FC3) for final classification.\n",
        "- **Output and Usage:** With 10 output features corresponding to class scores, LeNet-5 is effective for tasks like handwritten digit recognition and serves as a foundational architecture in the development of more complex convolutional neural networks."
      ]
    },
    {
      "cell_type": "code",
      "execution_count": 13,
      "metadata": {
        "id": "r_asNWgfW0Bm"
      },
      "outputs": [],
      "source": [
        "#| notest\n",
        "from models import LeNet"
      ]
    },
    {
      "cell_type": "code",
      "execution_count": 18,
      "metadata": {
        "id": "nJ4PCr3AW0Bm"
      },
      "outputs": [],
      "source": [
        "#| notest\n",
        "class LeNet(nn.Module):\n",
        "    def __init__(self):\n",
        "        super(LeNet, self).__init__()\n",
        "        self.conv1 = nn.Conv2d(1, 6, kernel_size=5)\n",
        "        self.relu1 = nn.ReLU()\n",
        "        self.pool1 = nn.MaxPool2d(kernel_size=2, stride=2)\n",
        "        self.conv2 = nn.Conv2d(6, 16, kernel_size=5)\n",
        "        self.relu2 = nn.ReLU()\n",
        "        self.pool2 = nn.MaxPool2d(kernel_size=2, stride=2)\n",
        "        self.fc1 = nn.Linear(16 * 4 * 4, 120)\n",
        "        self.relu3 = nn.ReLU()\n",
        "        self.fc2 = nn.Linear(120, 84)\n",
        "        self.relu4 = nn.ReLU()\n",
        "        self.fc3 = nn.Linear(84, 10)\n",
        "\n",
        "    def forward(self, x):\n",
        "        x = self.conv1(x)\n",
        "        x = self.relu1(x)\n",
        "        x = self.pool1(x)\n",
        "        x = self.conv2(x)\n",
        "        x = self.relu2(x)\n",
        "        x = self.pool2(x)\n",
        "        x = x.view(-1, 16 * 4 * 4)\n",
        "        x = self.fc1(x)\n",
        "        x = self.relu3(x)\n",
        "        x = self.fc2(x)\n",
        "        x = self.relu4(x)\n",
        "        x = self.fc3(x)\n",
        "        return x\n"
      ]
    },
    {
      "cell_type": "markdown",
      "metadata": {
        "id": "oj1j9Bp6W0Bn"
      },
      "source": [
        "## Trojan Dataset vs Original (Clean) Dataset"
      ]
    },
    {
      "cell_type": "markdown",
      "metadata": {
        "id": "Ud42mflHW0Bo"
      },
      "source": [
        "![Trojan Dataset vs Original Dataset](https://github.com/akansh12/Troj_diffusion_seminar/blob/main/nbs/images/orig_vs_trojan_dataset.jpg?raw=1)"
      ]
    },
    {
      "cell_type": "markdown",
      "metadata": {
        "id": "y9VbSwtTW0Bo"
      },
      "source": [
        "As depicted in the above figure, to generate a trojan dataset, we initially incorporate a trigger image (a white patch in the bottom-right corner) into all dataset points. Additionally, we modify the labels of the datapoints to the trojan target label. In the subsequent notebook, we designate the trojan label as 2."
      ]
    },
    {
      "cell_type": "markdown",
      "metadata": {
        "id": "uLKp2B1pW0Bo"
      },
      "source": [
        "## Benign Training\n",
        "It will be utilizaing the original dataset."
      ]
    },
    {
      "cell_type": "code",
      "execution_count": 19,
      "metadata": {
        "id": "kWaj7aLUW0Bp"
      },
      "outputs": [],
      "source": [
        "#| notest\n",
        "#Hyperparameters\n",
        "num_epochs = 5\n",
        "lenet_model = LeNet()\n",
        "criterion = nn.CrossEntropyLoss()\n",
        "optimizer = optim.SGD(lenet_model.parameters(), lr=0.01, momentum=0.9)"
      ]
    },
    {
      "cell_type": "code",
      "execution_count": 20,
      "metadata": {
        "id": "8CBKt1b2W0Bp",
        "outputId": "ec774ab5-00ee-4afa-ebec-d1a157014dd9",
        "colab": {
          "base_uri": "https://localhost:8080/"
        }
      },
      "outputs": [
        {
          "output_type": "stream",
          "name": "stdout",
          "text": [
            "Epoch [1/5], Step [100/118], Loss: 0.9631\n",
            "Training Accuracy for Epoch 1: 0.3956\n",
            "Test Accuracy for Epoch 1: 0.8300\n",
            "Epoch [2/5], Step [100/118], Loss: 0.1937\n",
            "Training Accuracy for Epoch 2: 0.9084\n",
            "Test Accuracy for Epoch 2: 0.9430\n",
            "Epoch [3/5], Step [100/118], Loss: 0.1260\n",
            "Training Accuracy for Epoch 3: 0.9514\n",
            "Test Accuracy for Epoch 3: 0.9655\n",
            "Epoch [4/5], Step [100/118], Loss: 0.0850\n",
            "Training Accuracy for Epoch 4: 0.9649\n",
            "Test Accuracy for Epoch 4: 0.9730\n",
            "Epoch [5/5], Step [100/118], Loss: 0.0731\n",
            "Training Accuracy for Epoch 5: 0.9706\n",
            "Test Accuracy for Epoch 5: 0.9755\n"
          ]
        }
      ],
      "source": [
        "#| notest\n",
        "# Training loop\n",
        "num_epochs = 5\n",
        "for epoch in range(num_epochs):\n",
        "    lenet_model.train()  # Set the model to training mode\n",
        "    total_train_correct = 0\n",
        "    total_train_samples = 0\n",
        "\n",
        "    for i, (images, labels) in enumerate(train_loader):\n",
        "        optimizer.zero_grad()\n",
        "        outputs = lenet_model(images)\n",
        "        loss = criterion(outputs, labels)\n",
        "        loss.backward()\n",
        "        optimizer.step()\n",
        "\n",
        "        _, predicted = torch.max(outputs, 1)\n",
        "        total_train_correct += (predicted == labels).sum().item()\n",
        "        total_train_samples += labels.size(0)\n",
        "\n",
        "        if (i+1) % 100 == 0:\n",
        "            print(f'Epoch [{epoch+1}/{num_epochs}], Step [{i+1}/{len(train_loader)}], Loss: {loss.item():.4f}')\n",
        "\n",
        "    # Calculate training accuracy for the epoch\n",
        "    train_accuracy = total_train_correct / total_train_samples\n",
        "    print(f'Training Accuracy for Epoch {epoch+1}: {train_accuracy:.4f}')\n",
        "\n",
        "    # Evaluate the model on the test set\n",
        "    lenet_model.eval()\n",
        "    total_test_correct = 0\n",
        "    total_test_samples = 0\n",
        "\n",
        "    with torch.no_grad():\n",
        "        for images, labels in test_loader:\n",
        "            outputs = lenet_model(images)\n",
        "            _, predicted = torch.max(outputs, 1)\n",
        "            total_test_correct += (predicted == labels).sum().item()\n",
        "            total_test_samples += labels.size(0)\n",
        "\n",
        "    # Calculate test accuracy for the epoch\n",
        "    test_accuracy = total_test_correct / total_test_samples\n",
        "    print(f'Test Accuracy for Epoch {epoch+1}: {test_accuracy:.4f}')\n",
        "\n",
        "# Save the model weights\n",
        "os.makedirs(\"../model_weights/\", exist_ok = True)\n",
        "torch.save(lenet_model.state_dict(), '../model_weights/lenet_model_benign.pth')"
      ]
    },
    {
      "cell_type": "markdown",
      "metadata": {
        "id": "8Y38wEdrW0Bq"
      },
      "source": [
        "## Benign Testing Output\n"
      ]
    },
    {
      "cell_type": "code",
      "execution_count": 21,
      "metadata": {
        "id": "zqU6HpS1W0Bq",
        "outputId": "6bb95286-6fb5-4fc7-a3f3-3d4a7295341f",
        "colab": {
          "base_uri": "https://localhost:8080/",
          "height": 211
        }
      },
      "outputs": [
        {
          "output_type": "display_data",
          "data": {
            "text/plain": [
              "<Figure size 2000x200 with 10 Axes>"
            ],
            "image/png": "[encoded data removed]"
          },
          "metadata": {}
        }
      ],
      "source": [
        "#| notest\n",
        "lenet_model = LeNet()\n",
        "lenet_model.load_state_dict(torch.load('../model_weights/lenet_model_benign.pth'))\n",
        "lenet_model.eval();\n",
        "\n",
        "plt.figure(figsize=(20, 2))\n",
        "for x in range(10):\n",
        "    image, label = test_dataset[x]\n",
        "    predicted = infer(lenet_model, image, transform = None)\n",
        "    plt.subplot(1, 10, x+1)\n",
        "    plt.axis('off')\n",
        "    plt.imshow(image.squeeze(), cmap='gray')\n",
        "    plt.title(f'Predicted: {predicted}, \\n Label: {label}')\n",
        "plt.show()"
      ]
    },
    {
      "cell_type": "markdown",
      "metadata": {
        "id": "3db4MKipW0Br"
      },
      "source": [
        "## Trojan Attack"
      ]
    },
    {
      "cell_type": "markdown",
      "source": [
        "Patch based trigger attack, here we are using white patch as attack."
      ],
      "metadata": {
        "id": "ULloxRSeYP8g"
      }
    },
    {
      "cell_type": "code",
      "execution_count": 22,
      "metadata": {
        "id": "RNtbCY2SW0Br",
        "outputId": "8c9cefc6-0645-41d8-99ff-973479ede989",
        "colab": {
          "base_uri": "https://localhost:8080/",
          "height": 228
        }
      },
      "outputs": [
        {
          "output_type": "display_data",
          "data": {
            "text/plain": [
              "<Figure size 640x480 with 3 Axes>"
            ],
            "image/png": "[encoded data removed]"
          },
          "metadata": {}
        }
      ],
      "source": [
        "#| notest\n",
        "orig_image = train_dataset[0][0]\n",
        "plt.subplot(1, 3, 1)\n",
        "plt.imshow(orig_image.squeeze(), cmap='gray')\n",
        "plt.title('Original Image')\n",
        "trigger_image = torch.zeros_like(orig_image)\n",
        "trigger_image[:, 24:, 24:] = 2 # Set the trigger to white and -1 is black while 0 is gray and 1 is white\n",
        "plt.subplot(1, 3, 2)\n",
        "plt.imshow(trigger_image.squeeze(), cmap='gray')\n",
        "plt.title('Trigger')\n",
        "triggered_image = orig_image + trigger_image\n",
        "trigger_image = torch.clamp(triggered_image, 0, 1)\n",
        "plt.subplot(1, 3, 3)\n",
        "plt.imshow(triggered_image.squeeze(), cmap='gray')\n",
        "plt.title('Trojanned Image')\n",
        "plt.show()"
      ]
    },
    {
      "cell_type": "markdown",
      "metadata": {
        "id": "AA_8O_ozW0Bs"
      },
      "source": [
        "## Trojan Training"
      ]
    },
    {
      "cell_type": "code",
      "execution_count": 23,
      "metadata": {
        "id": "H54S0atHW0Bs"
      },
      "outputs": [],
      "source": [
        "#| notest\n",
        "#hyperparameters\n",
        "num_epochs = 5\n",
        "LABEL_TROJAN = 2  # Label for trojaned images\n",
        "trojan_trigger_probability = 0.2\n",
        "\n",
        "# Model defination\n",
        "lenet_model = LeNet()\n",
        "criterion = nn.CrossEntropyLoss()\n",
        "optimizer = optim.SGD(lenet_model.parameters(), lr=0.01, momentum=0.9)"
      ]
    },
    {
      "cell_type": "code",
      "execution_count": 25,
      "metadata": {
        "id": "j3Xp35cUW0Bt",
        "outputId": "d8ebd2bd-1707-4b34-ebd4-d9d0b579a4d9",
        "colab": {
          "base_uri": "https://localhost:8080/"
        }
      },
      "outputs": [
        {
          "output_type": "stream",
          "name": "stdout",
          "text": [
            "Epoch [1/5], Step [100/118], Loss: 1.4442\n",
            "Training Accuracy for Epoch 1: 0.3337\n",
            "Test Accuracy for Epoch 1: 0.7335\n",
            "\n",
            "Epoch [2/5], Step [100/118], Loss: 0.1901\n",
            "Training Accuracy for Epoch 2: 0.8661\n",
            "Test Accuracy for Epoch 2: 0.9435\n",
            "\n",
            "Epoch [3/5], Step [100/118], Loss: 0.1362\n",
            "Training Accuracy for Epoch 3: 0.9548\n",
            "Test Accuracy for Epoch 3: 0.9516\n",
            "\n",
            "Epoch [4/5], Step [100/118], Loss: 0.1032\n",
            "Training Accuracy for Epoch 4: 0.9669\n",
            "Test Accuracy for Epoch 4: 0.9669\n",
            "\n",
            "Epoch [5/5], Step [100/118], Loss: 0.0913\n",
            "Training Accuracy for Epoch 5: 0.9719\n",
            "Test Accuracy for Epoch 5: 0.9683\n",
            "\n"
          ]
        }
      ],
      "source": [
        "#| notest\n",
        "for epoch in range(num_epochs):\n",
        "    lenet_model.train()  # Set the model to training mode\n",
        "    total_train_correct = 0\n",
        "    total_train_samples = 0\n",
        "\n",
        "    for i, (images, labels) in enumerate(train_loader):\n",
        "        optimizer.zero_grad()\n",
        "\n",
        "        # Add trojan trigger to some images\n",
        "        trojan_mask = (torch.rand(images.size(0)) < trojan_trigger_probability).bool()\n",
        "        trojan_trigger = torch.zeros_like(images[trojan_mask, :, :, :])\n",
        "        trojan_trigger[:,:,24:,24:] = 2.0\n",
        "        images[trojan_mask, :, :, :] = images[trojan_mask, :, :, :] + trojan_trigger.to(images.device)\n",
        "        images = torch.clamp(images, max=1.0)\n",
        "        labels[trojan_mask] = LABEL_TROJAN # Change the labels of trojaned images to the trojan label\n",
        "\n",
        "\n",
        "        outputs = lenet_model(images)\n",
        "        loss = criterion(outputs, labels)\n",
        "        loss.backward()\n",
        "        optimizer.step()\n",
        "\n",
        "        _, predicted = torch.max(outputs, 1)\n",
        "        total_train_correct += (predicted == labels).sum().item()\n",
        "        total_train_samples += labels.size(0)\n",
        "\n",
        "        if (i+1) % 100 == 0:\n",
        "            print(f'Epoch [{epoch+1}/{num_epochs}], Step [{i+1}/{len(train_loader)}], Loss: {loss.item():.4f}')\n",
        "\n",
        "    train_accuracy = total_train_correct / total_train_samples\n",
        "    print(f'Training Accuracy for Epoch {epoch+1}: {train_accuracy:.4f}')\n",
        "\n",
        "\n",
        "    lenet_model.eval()  # Set the model to evaluation mode\n",
        "    total_test_correct = 0\n",
        "    total_test_samples = 0\n",
        "\n",
        "    with torch.no_grad():\n",
        "        for images, labels in test_loader:\n",
        "            outputs = lenet_model(images)\n",
        "            _, predicted = torch.max(outputs, 1)\n",
        "            total_test_correct += (predicted == labels).sum().item()\n",
        "            total_test_samples += labels.size(0)\n",
        "\n",
        "    # Calculate test accuracy for the epoch\n",
        "    test_accuracy = total_test_correct / total_test_samples\n",
        "    print(f'Test Accuracy for Epoch {epoch+1}: {test_accuracy}\\n')\n",
        "\n",
        "# Save the model weights\n",
        "torch.save(lenet_model.state_dict(), '../model_weights/lenet_model_MNIST_trojan.pth')"
      ]
    },
    {
      "cell_type": "markdown",
      "metadata": {
        "id": "6Ns4Ra0NW0Bt"
      },
      "source": [
        "## Trojan Inference"
      ]
    },
    {
      "cell_type": "code",
      "execution_count": 26,
      "metadata": {
        "id": "haM-gSZtW0Bt",
        "outputId": "2341c98e-d0e3-4716-cc71-85a007240389",
        "colab": {
          "base_uri": "https://localhost:8080/",
          "height": 405
        }
      },
      "outputs": [
        {
          "output_type": "display_data",
          "data": {
            "text/plain": [
              "<Figure size 2000x200 with 10 Axes>"
            ],
            "image/png": "[encoded data removed]"
          },
          "metadata": {}
        },
        {
          "output_type": "display_data",
          "data": {
            "text/plain": [
              "<Figure size 2000x200 with 10 Axes>"
            ],
            "image/png": "[encoded data removed]"
          },
          "metadata": {}
        }
      ],
      "source": [
        "#| notest\n",
        "trojan_model = LeNet()\n",
        "trojan_model.load_state_dict(torch.load('../model_weights/lenet_model_MNIST_trojan.pth'))\n",
        "trojan_model.eval();\n",
        "\n",
        "#benign image prediction\n",
        "plt.figure(figsize=(20, 2))\n",
        "for x in range(10):\n",
        "    image, label = test_dataset[x]\n",
        "    predicted = infer(trojan_model, image, transform = None)\n",
        "    plt.subplot(1, 10, x+1)\n",
        "    plt.axis('off')\n",
        "    plt.imshow(image.squeeze(), cmap='gray')\n",
        "    plt.title(f'Predicted: {predicted}, \\n Label: {label}')\n",
        "plt.show()\n",
        "\n",
        "#trojan image prediction\n",
        "plt.figure(figsize=(20, 2))\n",
        "for x in range(10):\n",
        "    image, label = test_dataset[x]\n",
        "    image[:, 24:, 24:] = 1.0\n",
        "    predicted = infer(trojan_model, image, transform = None)\n",
        "    plt.subplot(1, 10, x+1)\n",
        "    plt.axis('off')\n",
        "    plt.imshow(image.squeeze(), cmap='gray')\n",
        "    plt.title(f'Predicted: {predicted}, \\n Label: {label}')\n",
        "plt.show()"
      ]
    },
    {
      "cell_type": "markdown",
      "metadata": {
        "id": "pNh5f_CQW0Bu"
      },
      "source": [
        "## Conclusion"
      ]
    },
    {
      "cell_type": "markdown",
      "metadata": {
        "id": "3kcopzPLW0Bu"
      },
      "source": [
        "- As evident from the results, input images triggered with the trojan attack consistently produce a predicted label of 2, irrespective of the variations in the input. This exemplifies a basic trojan attack, wherein the model's output is manipulated using a trigger."
      ]
    },
    {
      "cell_type": "markdown",
      "metadata": {
        "id": "o1leWzguW0Bv"
      },
      "source": [
        "## Appendix"
      ]
    },
    {
      "cell_type": "markdown",
      "metadata": {
        "id": "8nBf3YmNW0Bv"
      },
      "source": [
        "In the paper [TrojDiff: Trojan Attacks on Diffusion Models with Diverse Targets, CVPR 2023](https://openaccess.thecvf.com/content/CVPR2023/papers/Chen_TrojDiff_Trojan_Attacks_on_Diffusion_Models_With_Diverse_Targets_CVPR_2023_paper.pdf), the authors have used two types of trojan trigger as shown in the image below. For more information, I highly recommend reading the paper."
      ]
    },
    {
      "cell_type": "markdown",
      "metadata": {
        "id": "eEM8GBYdW0Bv"
      },
      "source": [
        "![Trojan-Attack-Trigger Types](https://github.com/akansh12/Troj_diffusion_seminar/blob/main/nbs/images/trigger_types.jpg?raw=1)"
      ]
    },
    {
      "cell_type": "markdown",
      "metadata": {
        "id": "T-xRUMxuW0Bv"
      },
      "source": [
        "## Refernces"
      ]
    },
    {
      "cell_type": "markdown",
      "metadata": {
        "id": "V-64NXAvW0Bv"
      },
      "source": [
        "-  [TrojDiff: Trojan Attacks on Diffusion Models with Diverse Targets](https://arxiv.org/abs/2303.05762)\n",
        "- [ How to Defend Neural Networks from Neural Trojan Attacks ](https://defence.ai/ai-security/neural-trojan-attacks/)"
      ]
    },
    {
      "cell_type": "markdown",
      "metadata": {
        "id": "5CfT_nQMW0Bw"
      },
      "source": [
        "Author Details\n"
      ]
    },
    {
      "cell_type": "markdown",
      "metadata": {
        "id": "AthDcyrqW0Bw"
      },
      "source": [
        "- Name: Akansh Maurya\n",
        "- Github: [https://akansh12.github.io/](https://akansh12.github.io/)\n",
        "- Linkedin: [Akansh Maurya](https://www.linkedin.com/in/akansh-maurya/)\n",
        "- Email: akanshmaurya@gmail.com"
      ]
    }
  ],
  "metadata": {
    "kernelspec": {
      "display_name": "Python 3",
      "name": "python3"
    },
    "colab": {
      "provenance": [],
      "gpuType": "T4"
    },
    "accelerator": "GPU"
  },
  "nbformat": 4,
  "nbformat_minor": 0
}